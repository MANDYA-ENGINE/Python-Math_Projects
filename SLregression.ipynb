{
 "cells": [
  {
   "cell_type": "code",
   "execution_count": null,
   "metadata": {},
   "outputs": [],
   "source": []
  },
  {
   "cell_type": "code",
   "execution_count": 1,
   "metadata": {},
   "outputs": [],
   "source": [
    "import seaborn as sns # A library used for creating attractive and informative statistical graphics to visualize data easily.\n",
    "import matplotlib.pyplot as plot #A module in Matplotlib that provides functions to generate plots and charts, similar to MATLAB’s plotting functionality.\n",
    "from sklearn.model_selection import train_test_split #A function used to split datasets into training and testing subsets for machine learning model evaluation.\n",
    "from sklearn.linear_model import LinearRegression "
   ]
  },
  {
   "cell_type": "code",
   "execution_count": null,
   "metadata": {},
   "outputs": [],
   "source": [
    "iris = sns.load_dataset('iris')#This command loads the Iris dataset from Seaborn’s built-in datasets into a pandas DataFrame for easy data analysis and visualization.\n",
    "iris"
   ]
  },
  {
   "cell_type": "code",
   "execution_count": 3,
   "metadata": {},
   "outputs": [],
   "source": [
    "iris = iris[['petal_length' , 'petal_width']]"
   ]
  },
  {
   "cell_type": "code",
   "execution_count": null,
   "metadata": {},
   "outputs": [],
   "source": [
    "iris"
   ]
  },
  {
   "cell_type": "code",
   "execution_count": 5,
   "metadata": {},
   "outputs": [],
   "source": [
    "X = iris['petal_length']\n",
    "y = iris['petal_width']"
   ]
  },
  {
   "cell_type": "code",
   "execution_count": null,
   "metadata": {},
   "outputs": [],
   "source": [
    "\n",
    "plot.scatter(X,y) #This command loads the Iris dataset from Seaborn’s built-in datasets into a pandas DataFrame for easy data analysis and visualization.\n",
    "plot.xlabel(\"petal length\")\n",
    "plot.ylabel(\"petal width\")"
   ]
  },
  {
   "cell_type": "code",
   "execution_count": 7,
   "metadata": {},
   "outputs": [],
   "source": [
    "X_train, X_test, y_train, y_test = train_test_split(X, y, test_size=0.4, random_state=23) \n",
    "#This splits the dataset X (features) and y (labels) into training and testing sets, using 40% of the data for testing and 60% for training,\n",
    "#with the split being reproducible due to random_state=23."
   ]
  },
  {
   "cell_type": "code",
   "execution_count": null,
   "metadata": {},
   "outputs": [],
   "source": [
    "X_train"
   ]
  },
  {
   "cell_type": "code",
   "execution_count": null,
   "metadata": {},
   "outputs": [],
   "source": [
    "import numpy as np # to convert the data to two dimensional arrays since ML models take only of this \n",
    "# Why Use .reshape(-1, 1)?\n",
    "# 1.\tConvert 1D to 2D Array: Often, machine learning models (e.g., in scikit-learn) expect the input to be 2-dimensional (with rows as samples and columns as features). If you have a 1D array (shape (n,)), reshaping it to (n, 1) makes it a 2D array with n rows and 1 column.\n",
    "# 2.\tEnsure Compatibility with Functions: Many libraries expect inputs to have a specific shape. If a function expects a 2D array but you pass a 1D array, it may throw an error. Using .reshape(-1, 1) ensures that the input array has the correct shape.\n",
    "X_train = np.array(X_train).reshape(-1, 1)\n",
    "X_train\n",
    "X_test = np.array(X_test).reshape(-1, 1)\n",
    "X_test"
   ]
  },
  {
   "cell_type": "code",
   "execution_count": null,
   "metadata": {},
   "outputs": [],
   "source": [
    "\n",
    "Lr = LinearRegression()\n",
    "Lr.fit(X_train, y_train)"
   ]
  },
  {
   "cell_type": "code",
   "execution_count": null,
   "metadata": {},
   "outputs": [],
   "source": [
    "c = Lr.intercept_ # to find out the intercept also called training data \n",
    "c\n",
    "m = Lr.coef_ # to find out the slope or also called coefficient\n",
    "m"
   ]
  },
  {
   "cell_type": "code",
   "execution_count": null,
   "metadata": {},
   "outputs": [],
   "source": [
    "pred_train = m*X_train + c # to find out Y in the equation Y =mX + c.       \n",
    "pred_train.flatten()"
   ]
  },
  {
   "cell_type": "code",
   "execution_count": null,
   "metadata": {},
   "outputs": [],
   "source": [
    "y_pred_train1 = Lr.predict(X_train) # alternative way of doing above \n",
    "y_pred_train1"
   ]
  },
  {
   "cell_type": "code",
   "execution_count": null,
   "metadata": {},
   "outputs": [],
   "source": [
    "plot.scatter(X_train,y_train)\n",
    "plot.plot(X_train,y_pred_train1, color ='red') #plot for line as shown and for exact and for discrete then scatter\n",
    "plot.xlabel(\"petal length\")\n",
    "plot.ylabel(\"petal width\")"
   ]
  },
  {
   "cell_type": "code",
   "execution_count": null,
   "metadata": {},
   "outputs": [],
   "source": [
    "y_pred_test1 = Lr.predict(X_test) # alternative way of doing above \n",
    "y_pred_test1\n"
   ]
  },
  {
   "cell_type": "code",
   "execution_count": null,
   "metadata": {},
   "outputs": [],
   "source": [
    "plot.scatter(X_test,y_test)\n",
    "plot.plot(X_test,y_pred_test1, color ='red') #plot for line as shown and for exact and for discrete then scatter\n",
    "plot.xlabel(\"petal length\")\n",
    "plot.ylabel(\"petal width\")"
   ]
  },
  {
   "cell_type": "code",
   "execution_count": null,
   "metadata": {},
   "outputs": [],
   "source": []
  }
 ],
 "metadata": {
  "kernelspec": {
   "display_name": ".venv",
   "language": "python",
   "name": "python3"
  },
  "language_info": {
   "codemirror_mode": {
    "name": "ipython",
    "version": 3
   },
   "file_extension": ".py",
   "mimetype": "text/x-python",
   "name": "python",
   "nbconvert_exporter": "python",
   "pygments_lexer": "ipython3",
   "version": "3.9.6"
  }
 },
 "nbformat": 4,
 "nbformat_minor": 2
}
