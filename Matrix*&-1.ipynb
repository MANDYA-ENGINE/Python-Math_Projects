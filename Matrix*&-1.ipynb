{
 "cells": [
  {
   "cell_type": "code",
   "execution_count": 8,
   "metadata": {},
   "outputs": [
    {
     "data": {
      "text/plain": [
       "'2.0.2'"
      ]
     },
     "execution_count": 8,
     "metadata": {},
     "output_type": "execute_result"
    }
   ],
   "source": [
    "#starting point \n",
    "import numpy as np \n",
    "np .__version__"
   ]
  },
  {
   "cell_type": "code",
   "execution_count": 16,
   "metadata": {},
   "outputs": [
    {
     "name": "stdout",
     "output_type": "stream",
     "text": [
      "[[ 0  1  2]\n",
      " [ 3  4  5]\n",
      " [ 6  7  8]\n",
      " [ 9 10 11]]\n",
      "[[1 2]\n",
      " [3 4]\n",
      " [5 6]]\n"
     ]
    }
   ],
   "source": [
    "#matrixname np.values_Range.change the Dimension of array \n",
    "A = np.arange(12).reshape(4,3)\n",
    "B = np.arange(1,7).reshape(3,2)\n",
    "print(A)\n",
    "print(B)\n",
    "# np.sum(A,axis=0) just a quick revision of summation using axis \n",
    "# np.sum(A,axis=1) sameways can do for matrix B"
   ]
  },
  {
   "cell_type": "code",
   "execution_count": 17,
   "metadata": {},
   "outputs": [
    {
     "data": {
      "text/plain": [
       "array([[ 13,  16],\n",
       "       [ 40,  52],\n",
       "       [ 67,  88],\n",
       "       [ 94, 124]])"
      ]
     },
     "execution_count": 17,
     "metadata": {},
     "output_type": "execute_result"
    }
   ],
   "source": [
    "\n",
    "c1 = np.matmul(A,B[:,0]) #multiplication of all  rows of A with the first column of B\n",
    "c2 = np.matmul(A,B[:,1]) #multiplication of all rows of A with the second column of B\n",
    "C = np.concatenate((c1.reshape(-1,1),c2.reshape(-1,1)),axis=1)\n",
    "C"
   ]
  },
  {
   "cell_type": "code",
   "execution_count": 23,
   "metadata": {},
   "outputs": [],
   "source": [
    "# Another method of doing the above code\n",
    "# import numpy as np\n",
    "\n",
    "# A = np.arange(12).reshape(3,4)\n",
    "# B = np.arange(1,7).reshape(3,2)\n",
    "\n",
    "# # Correct approach: slice each row of A and multiply with corresponding element of B\n",
    "# c1 = np.sum(A * B[:, 0].reshape(-1, 1), axis=1)  # Broadcasting to multiply A's rows with B[:,0]\n",
    "# c2 = np.sum(A * B[:, 1].reshape(-1, 1), axis=1)  # Broadcasting to multiply A's rows with B[:,1]\n",
    "\n",
    "# C = np.concatenate((c1, c2.reshape(-1,), axis=1)\n",
    "# print(C)\n"
   ]
  },
  {
   "cell_type": "code",
   "execution_count": 32,
   "metadata": {},
   "outputs": [
    {
     "name": "stdout",
     "output_type": "stream",
     "text": [
      "[[0.04 0.08]\n",
      " [0.08 0.16]]\n"
     ]
    }
   ],
   "source": [
    "# PSEUDO INVERSE METHOD \n",
    "#getting Determinant to know whether the inverse exists or not\n",
    "D = np.array([[1,2],[2,4]])\n",
    "\n",
    "Det_D = np.linalg.det(D)\n",
    "\n",
    "D.T # D.transpose() 'also works' \n",
    "\n",
    "P_inverse = np.linalg.pinv(D)\n",
    "print(P_inverse)"
   ]
  },
  {
   "cell_type": "code",
   "execution_count": 35,
   "metadata": {},
   "outputs": [
    {
     "name": "stdout",
     "output_type": "stream",
     "text": [
      "[[ 1.00000000e+00  0.00000000e+00  0.00000000e+00]\n",
      " [ 5.55111512e-17  1.00000000e+00 -1.11022302e-16]\n",
      " [-1.11022302e-16 -2.22044605e-16  1.00000000e+00]]\n"
     ]
    }
   ],
   "source": [
    "# Inverse using numpy a standard example\n",
    "M = np.array([[2,-1,0],[-1,2,-1],[0,-1,2]])\n",
    "Minv = np.linalg.inv(M)\n",
    "Result = np.matmul(M,Minv)\n",
    "print(Result)\n"
   ]
  },
  {
   "cell_type": "code",
   "execution_count": null,
   "metadata": {},
   "outputs": [],
   "source": []
  }
 ],
 "metadata": {
  "kernelspec": {
   "display_name": "venv",
   "language": "python",
   "name": "python3"
  },
  "language_info": {
   "codemirror_mode": {
    "name": "ipython",
    "version": 3
   },
   "file_extension": ".py",
   "mimetype": "text/x-python",
   "name": "python",
   "nbconvert_exporter": "python",
   "pygments_lexer": "ipython3",
   "version": "3.9.6"
  }
 },
 "nbformat": 4,
 "nbformat_minor": 2
}
